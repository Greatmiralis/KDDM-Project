{
 "cells": [
  {
   "cell_type": "code",
   "execution_count": 30,
   "id": "51950a76",
   "metadata": {},
   "outputs": [],
   "source": [
    "import pandas as pd"
   ]
  },
  {
   "cell_type": "code",
   "execution_count": 31,
   "id": "a3637f9d",
   "metadata": {},
   "outputs": [],
   "source": [
    "import pandas as pd\n",
    "\n",
    "class Character:\n",
    "    def __init__(self, name, role, skin_type, power_level, weight, height, age,\n",
    "                 eye_color, gender, hair_color, speed, universe, body_type,\n",
    "                 job, battle_iq, species, ranking, intelligence, abilities,\n",
    "                 training_time, special_attack, secret_code, win_prob):\n",
    "        self.name = name\n",
    "        self.role = role\n",
    "        self.skin_type = skin_type\n",
    "        self.power_level = power_level\n",
    "        self.weight = weight\n",
    "        self.height = height\n",
    "        self.age = age\n",
    "        self.eye_color = eye_color\n",
    "        self.gender = gender\n",
    "        self.hair_color = hair_color\n",
    "        self.speed = speed\n",
    "        self.universe = universe\n",
    "        self.body_type = body_type\n",
    "        self.job = job\n",
    "        self.battle_iq = battle_iq\n",
    "        self.species = species\n",
    "        self.ranking = ranking\n",
    "        self.intelligence = intelligence\n",
    "        self.abilities = abilities\n",
    "        self.training_time = training_time\n",
    "        self.special_attack = special_attack\n",
    "        self.secret_code = secret_code\n",
    "        self.win_prob = win_prob\n",
    "\n",
    "def load_characters(filepath):\n",
    "    df = pd.read_csv(filepath)\n",
    "\n",
    "    heroes = []\n",
    "    villains = []\n",
    "\n",
    "    for index, row in df.iterrows():\n",
    "        data = row.to_dict()\n",
    "\n",
    "        clean_data = clean_features(data)\n",
    "\n",
    "        if clean_data['role'] == 'Hero':\n",
    "            heroes.append(Character(**clean_data))\n",
    "        elif clean_data['role'] == 'Villain':\n",
    "            villains.append(Character(**clean_data))\n",
    "\n",
    "\n",
    "    print(f\"number all entries = {len(df)}\")\n",
    "    # Note: 5 entries are missing as there are 5 completely empty entries in the csv file\n",
    "    print(f\"number of loaded characters = {len(heroes) + len(villains)}\")\n",
    "\n",
    "    return heroes, villains\n",
    "\n",
    "def clean_features(data):\n",
    "    data['role'] = clean_role_feature(data.get('role'))\n",
    "\n",
    "    # Todo: clean other features\n",
    "\n",
    "    return data\n",
    "\n",
    "def clean_role_feature(value):\n",
    "    if isinstance(value, str):\n",
    "        value = value.strip().lower()\n",
    "        if value in ['hero', 'h3ro', 'her0']:\n",
    "            return 'Hero'\n",
    "        elif value == 'villain':\n",
    "            return 'Villain'\n",
    "    return None\n",
    "\n",
    "\n",
    "\n",
    "\n"
   ]
  },
  {
   "cell_type": "code",
   "execution_count": 32,
   "id": "8f88b180",
   "metadata": {},
   "outputs": [],
   "source": [
    "def clean_features(data):\n",
    "    data['role'] = clean_role_feature(data.get('role'))\n",
    "    data['name'] = str(data.get('name', '')).strip()\n",
    "\n",
    "    # Convert numerics safely\n",
    "    numeric_fields = ['power_level', 'weight', 'height', 'age', 'battle_iq',\n",
    "                      'ranking', 'intelligence', 'training_time', 'win_prob', 'speed']\n",
    "    for field in numeric_fields:\n",
    "        data[field] = safe_float(data.get(field))\n",
    "\n",
    "    # Clean other fields\n",
    "    for field in ['eye_color', 'gender', 'hair_color', 'universe', 'body_type',\n",
    "                  'job', 'species', 'abilities', 'special_attack', 'secret_code']:\n",
    "        data[field] = str(data.get(field, '')).strip()\n",
    "\n",
    "    return data\n",
    "\n",
    "def safe_float(value):\n",
    "    try:\n",
    "        return float(value)\n",
    "    except (TypeError, ValueError):\n",
    "        return None\n"
   ]
  },
  {
   "cell_type": "code",
   "execution_count": null,
   "id": "a33fd6e9",
   "metadata": {},
   "outputs": [],
   "source": [
    "df = pd.read_csv(filepath)\n"
   ]
  },
  {
   "cell_type": "code",
   "execution_count": 34,
   "id": "e0fbb752",
   "metadata": {},
   "outputs": [],
   "source": [
    "for index, row in df.iterrows():\n",
    "    data = row.to_dict()\n",
    "    clean_data = clean_features(data)\n"
   ]
  },
  {
   "cell_type": "code",
   "execution_count": 35,
   "id": "5569eff8",
   "metadata": {},
   "outputs": [],
   "source": [
    "cleaned_rows = []\n",
    "\n",
    "for _, row in df.iterrows():\n",
    "    row_dict = row.to_dict()\n",
    "    cleaned = clean_features(row_dict)\n",
    "    \n",
    "    # Only keep valid roles\n",
    "    if cleaned['role'] in ['Hero', 'Villain']:\n",
    "        cleaned_rows.append(cleaned)\n",
    "\n",
    "# Create a new cleaned DataFrame\n",
    "cleaned_df = pd.DataFrame(cleaned_rows)\n"
   ]
  },
  {
   "cell_type": "code",
   "execution_count": 36,
   "id": "61df7e0e",
   "metadata": {},
   "outputs": [],
   "source": [
    "# Replace actual NaN with -1\n",
    "cleaned_df = cleaned_df.fillna(-1)\n",
    "\n",
    "# Replace the string 'nan' with -1\n",
    "cleaned_df = cleaned_df.replace('nan', -1)\n"
   ]
  },
  {
   "cell_type": "code",
   "execution_count": 37,
   "id": "95e2211c",
   "metadata": {},
   "outputs": [],
   "source": [
    "#flag all roles with -1 value\n",
    "cleaned_df['has_neg_one'] = (cleaned_df == -1).any(axis=1)\n"
   ]
  }
 ],
 "metadata": {
  "kernelspec": {
   "display_name": "Python 3",
   "language": "python",
   "name": "python3"
  },
  "language_info": {
   "codemirror_mode": {
    "name": "ipython",
    "version": 3
   },
   "file_extension": ".py",
   "mimetype": "text/x-python",
   "name": "python",
   "nbconvert_exporter": "python",
   "pygments_lexer": "ipython3",
   "version": "3.11.5"
  }
 },
 "nbformat": 4,
 "nbformat_minor": 5
}
